{
 "cells": [
  {
   "cell_type": "markdown",
   "id": "ea50db73",
   "metadata": {},
   "source": [
    "# Evaluate model checkpoints\n"
   ]
  },
  {
   "cell_type": "code",
   "execution_count": null,
   "id": "f5fd5211",
   "metadata": {
    "tags": [],
    "vscode": {
     "languageId": "python"
    }
   },
   "outputs": [],
   "source": [
    "%load_ext autoreload\n",
    "%autoreload 2\n",
    "%cd /home/philipp/Projects/cmip-gan"
   ]
  },
  {
   "cell_type": "code",
   "execution_count": null,
   "id": "dd8f1c95",
   "metadata": {
    "vscode": {
     "languageId": "python"
    }
   },
   "outputs": [],
   "source": [
    "%matplotlib inline\n",
    "import os\n",
    "os.environ['PROJ_LIB'] = '/Users/mb/anaconda3/envs/worklab/share/proj'\n",
    "import matplotlib.pyplot as plt\n",
    "from src.inference import  EvaluateCheckpoints\n",
    "from src.configuration import TrainConfig as Config"
   ]
  },
  {
   "cell_type": "code",
   "execution_count": null,
   "id": "c575acc4",
   "metadata": {
    "tags": [],
    "vscode": {
     "languageId": "python"
    }
   },
   "outputs": [],
   "source": [
    "path ='/home/philipp/Data/cmip-gan/checkpoints/gfdl_gan/2022_12_16/c1c183e4-7d20-11ed-83b2-00e04cd0f266/last.ckpt'\n",
    "eval = EvaluateCheckpoints(path,\n",
    "                           run_train_and_test_set=True,\n",
    "                           model_fname='gan_test.nc',\n",
    "                           verbose=True,\n",
    "                           constrain=True,\n",
    "                           max_num_inference_steps=10,\n",
    "                           plot_summary=True,\n",
    "                           save_model=True)\n",
    "eval.run()"
   ]
  }
 ],
 "metadata": {
  "kernelspec": {
   "display_name": "Python 3 (ipykernel)",
   "language": "python",
   "name": "python3"
  },
  "language_info": {
   "codemirror_mode": {
    "name": "ipython",
    "version": 3
   },
   "file_extension": ".py",
   "mimetype": "text/x-python",
   "name": "python",
   "nbconvert_exporter": "python",
   "pygments_lexer": "ipython3",
   "version": "3.9.10"
  }
 },
 "nbformat": 4,
 "nbformat_minor": 5
}
